# 🎮 Tic Tac Toe Game for Aswini (O) and Jugi (X)

def print_board(board):
    print("\nCurrent Board:")
    for row in board:
        print(" | ".join(row))
        print("-" * 9)

def check_winner(board, player_symbol):
    # Check rows
    for row in board:
        if all(cell == player_symbol for cell in row):
            return True
    # Check columns
    for col in range(3):
        if all(board[row][col] == player_symbol for row in range(3)):
            return True
    # Check diagonals
    if all(board[i][i] == player_symbol for i in range(3)):
        return True
    if all(board[i][2 - i] == player_symbol for i in range(3)):
        return True
    return False

def is_draw(board):
    return all(cell in ['X', 'O'] for row in board for cell in row)

def get_move(player_name):
    while True:
        try:
            move = input(f"{player_name}, enter your move (row and column 1-3, separated by space): ")
            row, col = map(int, move.split())
            if row in [1, 2, 3] and col in [1, 2, 3]:
                return row - 1, col - 1
            else:
                print("❌ Invalid input. Enter numbers between 1 and 3.")
        except ValueError:
            print("⚠️ Invalid format. Use two numbers separated by space (e.g., 1 2).")

def main():
    board = [[" " for _ in range(3)] for _ in range(3)]
    players = {"X": "Jugi", "O": "Aswini"}
    current_symbol = "X"

    while True:
        print_board(board)
        row, col = get_move(players[current_symbol])

        if board[row][col] != " ":
            print("🚫 That spot is already taken. Try another.")
            continue

        board[row][col] = current_symbol

        if check_winner(board, current_symbol):
            print_board(board)
            print(f"🎉 Congratulations! {players[current_symbol]} ({current_symbol}) wins!")
            break

        if is_draw(board):
            print_board(board)
            print("🤝 It's a draw!")
            break

        current_symbol = "O" if current_symbol == "X" else "X"

if __name__ == "__main__":
    main()
