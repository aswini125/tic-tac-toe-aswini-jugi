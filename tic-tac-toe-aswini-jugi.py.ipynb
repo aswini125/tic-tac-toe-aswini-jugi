{
 "cells": [
  {
   "cell_type": "code",
   "execution_count": null,
   "id": "047c0283-a73c-4ae8-b053-8bebecdb8860",
   "metadata": {},
   "outputs": [
    {
     "name": "stdout",
     "output_type": "stream",
     "text": [
      "\n",
      "Current Board:\n",
      "  |   |  \n",
      "---------\n",
      "  |   |  \n",
      "---------\n",
      "  |   |  \n",
      "---------\n"
     ]
    },
    {
     "name": "stdin",
     "output_type": "stream",
     "text": [
      "Vinay, enter your move (row and column 1-3, separated by space):  X\n"
     ]
    },
    {
     "name": "stdout",
     "output_type": "stream",
     "text": [
      "Invalid format. Please enter two numbers separated by space.\n"
     ]
    },
    {
     "name": "stdin",
     "output_type": "stream",
     "text": [
      "Vinay, enter your move (row and column 1-3, separated by space):  33\n"
     ]
    },
    {
     "name": "stdout",
     "output_type": "stream",
     "text": [
      "Invalid format. Please enter two numbers separated by space.\n"
     ]
    },
    {
     "name": "stdin",
     "output_type": "stream",
     "text": [
      "Vinay, enter your move (row and column 1-3, separated by space):  3 3\n"
     ]
    },
    {
     "name": "stdout",
     "output_type": "stream",
     "text": [
      "\n",
      "Current Board:\n",
      "  |   |  \n",
      "---------\n",
      "  |   |  \n",
      "---------\n",
      "  |   | X\n",
      "---------\n"
     ]
    },
    {
     "name": "stdin",
     "output_type": "stream",
     "text": [
      "Aswini, enter your move (row and column 1-3, separated by space):  2 2\n"
     ]
    },
    {
     "name": "stdout",
     "output_type": "stream",
     "text": [
      "\n",
      "Current Board:\n",
      "  |   |  \n",
      "---------\n",
      "  | O |  \n",
      "---------\n",
      "  |   | X\n",
      "---------\n"
     ]
    },
    {
     "name": "stdin",
     "output_type": "stream",
     "text": [
      "Vinay, enter your move (row and column 1-3, separated by space):  2 3\n"
     ]
    },
    {
     "name": "stdout",
     "output_type": "stream",
     "text": [
      "\n",
      "Current Board:\n",
      "  |   |  \n",
      "---------\n",
      "  | O | X\n",
      "---------\n",
      "  |   | X\n",
      "---------\n"
     ]
    },
    {
     "name": "stdin",
     "output_type": "stream",
     "text": [
      "Aswini, enter your move (row and column 1-3, separated by space):  1 3\n"
     ]
    },
    {
     "name": "stdout",
     "output_type": "stream",
     "text": [
      "\n",
      "Current Board:\n",
      "  |   | O\n",
      "---------\n",
      "  | O | X\n",
      "---------\n",
      "  |   | X\n",
      "---------\n"
     ]
    }
   ],
   "source": [
    "# Tic Tac Toe game for \n",
    "\n",
    "\n",
    "(O) and Jugi (X)\n",
    "\n",
    "def print_board(board):\n",
    "    print(\"\\nCurrent Board:\")\n",
    "    for row in board:\n",
    "        print(\" | \".join(row))\n",
    "        print(\"-\" * 9)\n",
    "\n",
    "def check_winner(board, player_symbol):\n",
    "    # Check rows, columns, and diagonals\n",
    "    for row in board:\n",
    "        if all(cell == player_symbol for cell in row):\n",
    "            return True\n",
    "    for col in range(3):\n",
    "        if all(board[row][col] == player_symbol for row in range(3)):\n",
    "            return True\n",
    "    if all(board[i][i] == player_symbol for i in range(3)):\n",
    "        return True\n",
    "    if all(board[i][2 - i] == player_symbol for i in range(3)):\n",
    "        return True\n",
    "    return False\n",
    "\n",
    "def is_draw(board):\n",
    "    return all(cell in ['X', 'O'] for row in board for cell in row)\n",
    "\n",
    "def get_move(player_name):\n",
    "    while True:\n",
    "        try:\n",
    "            move = input(f\"{player_name}, enter your move (row and column 1-3, separated by space): \")\n",
    "            row, col = map(int, move.split())\n",
    "            if row in [1, 2, 3] and col in [1, 2, 3]:\n",
    "                return row - 1, col - 1\n",
    "            else:\n",
    "                print(\"Invalid input. Enter numbers between 1 and 3.\")\n",
    "        except ValueError:\n",
    "            print(\"Invalid format. Please enter two numbers separated by space.\")\n",
    "\n",
    "def main():\n",
    "    board = [[\" \" for _ in range(3)] for _ in range(3)]\n",
    "    players = {\"X\": \"Jugi\", \"O\": \"Aswini\"}\n",
    "    current_symbol = \"X\"\n",
    "\n",
    "    while True:\n",
    "        print_board(board)\n",
    "        row, col = get_move(players[current_symbol])\n",
    "\n",
    "        if board[row][col] != \" \":\n",
    "            print(\"That spot is already taken. Try another.\")\n",
    "            continue\n",
    "\n",
    "        board[row][col] = current_symbol\n",
    "\n",
    "        if check_winner(board, current_symbol):\n",
    "            print_board(board)\n",
    "            print(f\"Congratulations! {players[current_symbol]} wins!\")\n",
    "            break\n",
    "\n",
    "        if is_draw(board):\n",
    "            print_board(board)\n",
    "            print(\"It's a draw!\")\n",
    "            break\n",
    "\n",
    "        current_symbol = \"O\" if current_symbol == \"X\" else \"X\"\n",
    "\n",
    "if __name__ == \"__main__\":\n",
    "    main()\n"
   ]
  },
  {
   "cell_type": "code",
   "execution_count": null,
   "id": "bb2a28d6-367e-42ed-9cfe-c37c0a47ebc3",
   "metadata": {},
   "outputs": [],
   "source": []
  }
 ],
 "metadata": {
  "kernelspec": {
   "display_name": "Python 3 (ipykernel)",
   "language": "python",
   "name": "python3"
  },
  "language_info": {
   "codemirror_mode": {
    "name": "ipython",
    "version": 3
   },
   "file_extension": ".py",
   "mimetype": "text/x-python",
   "name": "python",
   "nbconvert_exporter": "python",
   "pygments_lexer": "ipython3",
   "version": "3.10.9"
  }
 },
 "nbformat": 4,
 "nbformat_minor": 5
}
